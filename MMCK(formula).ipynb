{
 "cells": [
  {
   "cell_type": "code",
   "execution_count": 62,
   "metadata": {},
   "outputs": [
    {
     "name": "stdout",
     "output_type": "stream",
     "text": [
      "probability that there is no person in the system 0.4471550664980139\n",
      "probability of N person which means the queue is full is 3.65896278549321e-06\n",
      "Expexted no of people in the queue 0.018909813571609667\n",
      "Expected number of people in the system 0.8189098135716097\n",
      "Average time in the system 0.8189098135716097 hr\n",
      "Average time in the queue 0.018909813571609667 hr\n",
      "Average time in the service 0.8 hr\n"
     ]
    }
   ],
   "source": [
    "import math\n",
    "lamda=1\n",
    "mu=1.25\n",
    "k=10\n",
    "c=3\n",
    "sum=0\n",
    "rho=lamda/mu\n",
    "p=rho/c\n",
    "for i in range(0,c):\n",
    "    sum=sum+rho ** i / math.factorial(i)\n",
    "\n",
    "b= sum + (rho**c) * (1- p ** (k+1-c) ) / ( math.factorial(c) * (1-p) )\n",
    "P0=1/b\n",
    "PN= ( rho ** k ) * P0 / ( math.factorial(c) * ( c ** (k-c) ) )\n",
    "LQ= ( rho ** (c+1) * P0 * ( 1- p ** (k-c+1) - ((k-c+1)*(1-p)*p**(k-c)) ) ) / ( math.factorial(c-1) * (c-rho) * (c-rho) )\n",
    "lamdaE=lamda*(1-PN)\n",
    "WQ= LQ / lamda\n",
    "WS=WQ+(1/mu)\n",
    "LS=lamda * WS\n",
    "print(\"probability that there is no person in the system\",P0)\n",
    "print(\"probability of N person which means the queue is full is\",PN)\n",
    "print(\"Expexted no of people in the queue\",LQ)\n",
    "print(\"Expected number of people in the system\",LS)\n",
    "print(\"Average time in the system\",WS,\"hr\")\n",
    "print(\"Average time in the queue\",WQ,\"hr\")\n",
    "print(\"Average time in the service\", WS-WQ,\"hr\")\n",
    "\n"
   ]
  },
  {
   "cell_type": "code",
   "execution_count": null,
   "metadata": {},
   "outputs": [],
   "source": []
  },
  {
   "cell_type": "code",
   "execution_count": null,
   "metadata": {},
   "outputs": [],
   "source": []
  }
 ],
 "metadata": {
  "kernelspec": {
   "display_name": "Python 3",
   "language": "python",
   "name": "python3"
  },
  "language_info": {
   "codemirror_mode": {
    "name": "ipython",
    "version": 3
   },
   "file_extension": ".py",
   "mimetype": "text/x-python",
   "name": "python",
   "nbconvert_exporter": "python",
   "pygments_lexer": "ipython3",
   "version": "3.7.6"
  }
 },
 "nbformat": 4,
 "nbformat_minor": 4
}
